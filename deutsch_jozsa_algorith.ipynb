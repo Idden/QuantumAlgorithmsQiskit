{
 "cells": [
  {
   "cell_type": "code",
   "execution_count": 91,
   "id": "61eea2a3",
   "metadata": {},
   "outputs": [],
   "source": [
    "from qiskit import QuantumCircuit\n",
    "from qiskit_aer import AerSimulator\n",
    "import numpy as np"
   ]
  },
  {
   "cell_type": "code",
   "execution_count": 92,
   "id": "31f0441f",
   "metadata": {},
   "outputs": [],
   "source": [
    "# Create oracle function\n",
    "def dj_query(num_qubits):\n",
    "\n",
    "    qc = QuantumCircuit(num_qubits + 1)\n",
    " \n",
    "    if np.random.randint(0, 2):\n",
    "        # Flip output qubit with 50% chance\n",
    "        # Decides if oracle function is constant 0 or 1\n",
    "        qc.x(num_qubits)\n",
    "    if np.random.randint(0, 2):\n",
    "        # return constant circuit with 50% chance\n",
    "        return qc\n",
    "\n",
    "    # Choose half the possible input strings\n",
    "    on_states = np.random.choice(\n",
    "        range(2**num_qubits),  # numbers to sample from\n",
    "        2**num_qubits // 2,  # number of samples\n",
    "        replace=False,  # makes sure states are only sampled once\n",
    "    )\n",
    " \n",
    "    def add_cx(qc, bit_string):\n",
    "        for qubit, bit in enumerate(reversed(bit_string)):\n",
    "            if bit == \"1\":\n",
    "                qc.x(qubit)\n",
    "        return qc\n",
    " \n",
    "    for state in on_states:\n",
    "        qc.barrier()  # Barriers are added to help visualize how the functions are created.\n",
    "        qc = add_cx(qc, f\"{state:0b}\")\n",
    "        qc.mcx(list(range(num_qubits)), num_qubits)\n",
    "        qc = add_cx(qc, f\"{state:0b}\")\n",
    " \n",
    "    qc.barrier()\n",
    " \n",
    "    return qc"
   ]
  },
  {
   "cell_type": "code",
   "execution_count": 93,
   "id": "f35f5d96",
   "metadata": {},
   "outputs": [],
   "source": [
    "def compile_circuit(function: QuantumCircuit):\n",
    "    # Compiles a circuit for use in the Deutsch-Jozsa algorithm.\n",
    "\n",
    "    n = function.num_qubits - 1\n",
    "    qc = QuantumCircuit(n + 1, n)\n",
    "    qc.x(n)\n",
    "    qc.h(range(n + 1))\n",
    "    qc.compose(function, inplace=True)\n",
    "    qc.h(range(n))\n",
    "    qc.measure(range(n), range(n))\n",
    "    return qc"
   ]
  },
  {
   "cell_type": "code",
   "execution_count": 94,
   "id": "f7ce86e3",
   "metadata": {},
   "outputs": [],
   "source": [
    "def dj_algorithm(function: QuantumCircuit):\n",
    "    # Determine if a function is constant or balanced.\n",
    " \n",
    "    qc = compile_circuit(function)\n",
    " \n",
    "    result = AerSimulator().run(qc, shots=1, memory=True).result()\n",
    "    measurements = result.get_memory()\n",
    "\n",
    "    display(measurements)\n",
    "\n",
    "    if \"1\" in measurements[0]:\n",
    "        return \"balanced\"\n",
    "    return \"constant\""
   ]
  },
  {
   "cell_type": "code",
   "execution_count": 95,
   "id": "efd86643",
   "metadata": {},
   "outputs": [
    {
     "data": {
      "image/png": "[encoded data removed]",
      "text/plain": [
       "<Figure size 1541.66x367.889 with 1 Axes>"
      ]
     },
     "metadata": {},
     "output_type": "display_data"
    },
    {
     "data": {
      "text/plain": [
       "['011']"
      ]
     },
     "metadata": {},
     "output_type": "display_data"
    },
    {
     "data": {
      "text/plain": [
       "'balanced'"
      ]
     },
     "metadata": {},
     "output_type": "display_data"
    }
   ],
   "source": [
    "f = dj_query(3)\n",
    "display(f.draw(\"mpl\"))\n",
    "display(dj_algorithm(f))"
   ]
  }
 ],
 "metadata": {
  "kernelspec": {
   "display_name": "Python 3",
   "language": "python",
   "name": "python3"
  },
  "language_info": {
   "codemirror_mode": {
    "name": "ipython",
    "version": 3
   },
   "file_extension": ".py",
   "mimetype": "text/x-python",
   "name": "python",
   "nbconvert_exporter": "python",
   "pygments_lexer": "ipython3",
   "version": "3.13.5"
  }
 },
 "nbformat": 4,
 "nbformat_minor": 5
}
